{
  "cells": [
    {
      "cell_type": "markdown",
      "metadata": {
        "id": "AXuLXx2p__Co"
      },
      "source": [
        "# Function Derivation, Visualization, and Optimization in Python\n",
        "\n",
        "**Objective**  \n",
        "Apply the fundamental concepts of single-variable differential calculus through:\n",
        "\n",
        "- Symbolic derivation.\n",
        "- Identification of critical points.\n",
        "- Function optimization.\n",
        "\n",
        "We will use the `Numpy`, `SymPy`, `Matplotlib`, and `SciPy` libraries.\n"
      ]
    },
    {
      "cell_type": "code",
      "execution_count": null,
      "metadata": {
        "id": "-BEGuxvi_xLH"
      },
      "outputs": [],
      "source": [
        "# Import libraries\n",
        "import numpy as np\n",
        "import matplotlib.pyplot as plt\n",
        "import sympy as sp\n",
        "from scipy.optimize import minimize"
      ]
    },
    {
      "cell_type": "markdown",
      "metadata": {
        "id": "ObJG-xvmAMso"
      },
      "source": [
        "## 1. Symbolic Definition and Derivation of the Function\n",
        "\n",
        "In this step, we define the function:\n",
        "\n",
        "$$\n",
        "f(x) = (x - 3)^2\n",
        "$$\n",
        "\n",
        "Next, we calculate its symbolic derivative using `SymPy` and solve the equation:\n",
        "\n",
        "$$\n",
        "f'(x) = 0\n",
        "$$\n",
        "\n",
        "to find its **critical point**.\n"
      ]
    },
    {
      "cell_type": "code",
      "execution_count": null,
      "metadata": {
        "colab": {
          "base_uri": "https://localhost:8080/"
        },
        "id": "iWIVXSH__oMo",
        "outputId": "81c88cbc-378a-4cbe-e517-5a9c48168bf6"
      },
      "outputs": [],
      "source": [
        "# Add the src directory to the Python path\n",
        "import sys\n",
        "sys.path.append('../src')\n",
        "\n",
        "from calculus_utils import get_critical_points\n",
        "\n",
        "# Define the symbolic variable\n",
        "x = sp.Symbol('x')\n",
        "\n",
        "# Define the function\n",
        "f = (x - 3)**2\n",
        "\n",
        "# Execute the derivation\n",
        "df, critical_points = get_critical_points(f, x)\n",
        "\n",
        "# Print the results\n",
        "print('Function:           ', f)\n",
        "print('Derivative:         ', df)\n",
        "print('Critical Points:    ', critical_points)\n"
      ]
    },
    {
      "cell_type": "markdown",
      "metadata": {
        "id": "FHl-HUriAYiT"
      },
      "source": [
        "## 2. Visualization of the Function and its Derivative\n",
        "\n",
        "Next, we will plot:\n",
        "\n",
        "- The function $ f(x) $\n",
        "- Its derivative $ f'(x) $\n",
        "\n",
        "over the interval:\n",
        "\n",
        "$$\n",
        "x \\in [-5, 10]\n",
        "$$\n",
        "\n",
        "We will also **clearly mark the critical point at $ x = 3 $** on both graphs to show where the minimum is reached.\n"
      ]
    },
    {
      "cell_type": "code",
      "execution_count": null,
      "metadata": {},
      "outputs": [],
      "source": [
        "from plotting_utils import plot_function_and_derivative\n"
      ]
    },
    {
      "cell_type": "code",
      "execution_count": null,
      "metadata": {
        "colab": {
          "base_uri": "https://localhost:8080/",
          "height": 507
        },
        "id": "wGdU3XuwBiuJ",
        "outputId": "b2eafd0c-a30e-4f07-ce19-4b9ab4bc6494"
      },
      "outputs": [],
      "source": [
        "plot_function_and_derivative(f, df, critical_points, -5, 10)"
      ]
    },
    {
      "cell_type": "markdown",
      "metadata": {
        "id": "39b63Jf8Bovm"
      },
      "source": [
        "## 3. Numerical Optimization with SciPy\n",
        "\n",
        "Here, we use `scipy.optimize.minimize` to find the minimum of the function $ f(x) $ **numerically**.\n",
        "\n",
        "Afterward, we **compare this result with the one obtained symbolically** to confirm that both methods agree on the minimum at $ x = 3 $.\n"
      ]
    },
    {
      "cell_type": "code",
      "execution_count": null,
      "metadata": {
        "colab": {
          "base_uri": "https://localhost:8080/"
        },
        "id": "2NPhtFnL_5nF",
        "outputId": "cc5f86dc-654f-47c3-efb4-6f931cc18d48"
      },
      "outputs": [],
      "source": [
        "# Define f(x) as a standard Python function for optimization\n",
        "f_py = lambda x: (x - 3)**2\n",
        "\n",
        "def numerical_optimization(func):\n",
        "    \"\"\"\n",
        "    Uses numerical optimization to find the minimum of f(x).\n",
        "\n",
        "    Args:\n",
        "        func (callable): The function to minimize.\n",
        "\n",
        "    Returns:\n",
        "        result (OptimizeResult): The result of the optimization.\n",
        "    \"\"\"\n",
        "    # Run the optimizer with an initial guess of x = 0\n",
        "    result = minimize(func, x0=0)\n",
        "\n",
        "    return result\n",
        "\n",
        "# Run the optimization\n",
        "optimization_result = numerical_optimization(f_py)\n",
        "\n",
        "optimization_result"
      ]
    },
    {
      "cell_type": "code",
      "execution_count": null,
      "metadata": {
        "colab": {
          "base_uri": "https://localhost:8080/"
        },
        "id": "LvaWqvTN_4Ao",
        "outputId": "3440436e-826f-48d6-bd1a-31169d450fb8"
      },
      "outputs": [],
      "source": [
        "# Compare with the symbolic result\n",
        "print(f\"Symbolic critical point: x = {critical_points[0]:.3f}\")\n",
        "print(f\"Numerical minimum:       x ≈ {optimization_result.x[0]:.3f}\")\n",
        "print(f\"Minimum value of f(x):   f(x) ≈ {optimization_result.fun:.3f}\")"
      ]
    }
  ],
  "metadata": {
    "colab": {
      "provenance": [],
      "toc_visible": true
    },
    "kernelspec": {
      "display_name": "Python 3",
      "name": "python3"
    },
    "language_info": {
      "codemirror_mode": {
        "name": "ipython",
        "version": 3
      },
      "file_extension": ".py",
      "mimetype": "text/x-python",
      "name": "python",
      "nbconvert_exporter": "python",
      "pygments_lexer": "ipython3",
      "version": "3.12.4"
    }
  },
  "nbformat": 4,
  "nbformat_minor": 0
}
